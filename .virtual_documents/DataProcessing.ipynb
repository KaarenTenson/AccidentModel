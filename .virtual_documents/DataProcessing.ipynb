import numpy as np
import pandas as pd
import geopandas as gpd
import contextily as ctx
import matplotlib.pyplot as plt
import pyproj
import osmnx
from geopy import distance


smartDf= pd.read_csv("archive/smart_mobility_dataset.csv")


smartDf["coordinate"]=smartDf.apply(lambda x: (x["Latitude"], x["Longitude"]), axis=1)


center_point_x=sum(smartDf["Latitude"])/smartDf.shape[0]
center_point_y=sum(smartDf["Longitude"])/smartDf.shape[0]
center_point=(center_point_x, center_point_y)
max_distance= max(smartDf.apply(lambda x: distance.distance((center_point[0], center_point[1]), (x["Latitude"],
                                                                   x["Longitude"])
                                                                  ), axis=1)
                 )


tags={"highway": True}


roads=osmnx.features.features_from_point(center_point=center_point, tags=tags, dist=max_distance.m*1.2)



