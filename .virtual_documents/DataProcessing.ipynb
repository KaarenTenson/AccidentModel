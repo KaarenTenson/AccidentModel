import numpy as np
import pandas as pd
import geopandas as gpd
import contextily as ctx
import matplotlib.pyplot as plt
import pyproj
import osmnx
from geopy import distance
import seaborn as sns


smartDf= pd.read_csv("archive/smart_mobility_dataset.csv")


smartDf["coordinate"]=smartDf.apply(lambda x: (x["Latitude"], x["Longitude"]), axis=1)


center_point_x=sum(smartDf["Latitude"])/smartDf.shape[0]
center_point_y=sum(smartDf["Longitude"])/smartDf.shape[0]
center_point=(center_point_x, center_point_y)
max_distance= max(smartDf.apply(lambda x: distance.distance((center_point[0], center_point[1]), (x["Latitude"],
                                                                   x["Longitude"])
                                                                  ), axis=1)
                 )


roads=osmnx.graph.graph_from_point(center_point=center_point, dist=max_distance.m*1.2, network_type="drive")


osmnx.io.save_graphml(roads)


roads= osmnx.io.load_graphml("data/road.graphml")


smartDf


smartDf["Accident_Report"].value_counts()


bins=pd.cut(smartDf["Accident_Report"], bins=int((smartDf["Vehicle_Count"].max())/50)) 


import matplotlib.pyplot as plt
import numpy as np
import seaborn as sns

sns.set_context("talk")

# Compute histograms
counts_all, bins = np.histogram(smartDf["Vehicle_Count"])
counts_accidents, _ = np.histogram(smartDf[smartDf["Accident_Report"] == 1]["Vehicle_Count"], bins=bins)

# Compute bin centers for the accident line plot
bin_centers = (bins[:-1] + bins[1:]) / 2

# Plot
fig, ax = plt.subplots(figsize=(10, 6))

# Stairs for total vehicle counts
ax.stairs(counts_all, bins, label="All Vehicle Counts", color="steelblue", linewidth=2)

# Line plot for accidents
ax.plot(bin_centers, counts_accidents, label="Accidents", color="crimson", linewidth=2, marker="o")

# Labels and styling
ax.set_title("Vehicle Count Distribution with Accident Overlay", fontsize=16)
ax.set_xlabel("Vehicle Count", fontsize=14)
ax.set_ylabel("Number of Records", fontsize=14)
ax.legend()
ax.grid(True, linestyle='--', alpha=0.5)

plt.tight_layout()
plt.show()




sns.set_context("talk")
counts_speed, bins = np.histogram(smartDf["Traffic_Speed_kmh"])
counts_accidents, _ = np.histogram(smartDf[smartDf["Accident_Report"] == 1]["Vehicle_Count"], bins=bins)

fig, ax = plt.subplots(figsize=(10, 6))
ax.stairs(counts_speed, bins, label="Vehicle Speed", color="steelblue", linewidth=2)
ax.stairs(counts_accidents, bins, label="Accidents", color="crimson", linewidth=2)

ax.set_title("Vehicle Count Distribution with Accident Overlay", fontsize=16)
ax.set_xlabel("Vehicle Count", fontsize=14)
ax.set_ylabel("Number of accidents", fontsize=14)
ax.legend()
ax.grid(True, linestyle='--', alpha=0.5)

plt.tight_layout()
plt.show()




