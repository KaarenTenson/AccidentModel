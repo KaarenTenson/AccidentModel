import numpy as np
import pandas as pd
import geopandas as gpd
import contextily as ctx
import matplotlib.pyplot as plt
import pyproj
import osmnx
from geopy import distance
import seaborn as sns


smartDf= pd.read_csv("archive/smart_mobility_dataset.csv")


smartDf["coordinate"]=smartDf.apply(lambda x: (x["Latitude"], x["Longitude"]), axis=1)


center_point_x=sum(smartDf["Latitude"])/smartDf.shape[0]
center_point_y=sum(smartDf["Longitude"])/smartDf.shape[0]
center_point=(center_point_x, center_point_y)
max_distance= max(smartDf.apply(lambda x: distance.distance((center_point[0], center_point[1]), (x["Latitude"],
                                                                   x["Longitude"])
                                                                  ), axis=1)
                 )


roads=osmnx.graph.graph_from_point(center_point=center_point, dist=max_distance.m*1.2, network_type="drive")


osmnx.io.save_graphml(roads)


roads= osmnx.io.load_graphml("data/road.graphml")


smartDf


smartDf["Accident_Report"].value_counts()


bins=pd.cut(smartDf["Accident_Report"], bins=int((smartDf["Vehicle_Count"].max())/50)) 


import seaborn as sns
import numpy as np
import matplotlib.pyplot as plt

sns.set_context("talk")

counts_speed, bins = np.histogram(smartDf["Vehicle_Count"])
# Calculate the histogram of accidents, using the speed bins
counts_accidents, _ = np.histogram(smartDf[smartDf["Accident_Report"] == 1]["Vehicle_Count"], bins=bins)

# Avoid division by zero
with np.errstate(divide='ignore', invalid='ignore'):
    accident_rate = counts_accidents / counts_speed
    accident_rate[np.isnan(accident_rate)] = 0  # Set NaN to 0

fig, ax = plt.subplots(figsize=(10, 6))

# Plot the accident rate
ax.stairs(accident_rate, bins, label="Accident Rate (Accidents / Vehicle in Bin)", color="darkorange", linewidth=2)

ax.set_xlabel("Vehicle Count", fontsize=14)
ax.set_ylabel("Accident Rate", fontsize=14)
ax.set_title("Accident Rate by Vehicle Count", fontsize=16)
ax.legend()
ax.grid(True, linestyle='--', alpha=0.5)

plt.tight_layout()
plt.show()


import seaborn as sns
import numpy as np
import matplotlib.pyplot as plt

sns.set_context("talk")

counts_speed, bins = np.histogram(smartDf["Traffic_Speed_kmh"])

counts_accidents, _ = np.histogram(smartDf[smartDf["Accident_Report"] == 1]["Traffic_Speed_kmh"], bins=bins)

with np.errstate(divide='ignore', invalid='ignore'):
    accident_rate = counts_accidents / counts_speed
    accident_rate[np.isnan(accident_rate)] = 0  

fig, ax = plt.subplots(figsize=(10, 6))

ax.stairs(accident_rate, bins, label="Accident Rate (Accidents / Vehicle in Bin)", color="darkorange", linewidth=2)

ax.set_xlabel("Traffic Speed (km/h)", fontsize=14)
ax.set_ylabel("Accident Rate", fontsize=14)
ax.set_title("Accident Rate by Traffic Speed", fontsize=16)
ax.legend()
ax.grid(True, linestyle='--', alpha=0.5)

plt.tight_layout()
plt.show()


import seaborn as sns
import numpy as np
import matplotlib.pyplot as plt

sns.set_context("talk")

counts_speed, bins = np.histogram(smartDf["Sentiment_Score"])

counts_accidents, _ = np.histogram(smartDf[smartDf["Accident_Report"] == 1]["Sentiment_Score"], bins=bins)

with np.errstate(divide='ignore', invalid='ignore'):
    accident_rate = counts_accidents / counts_speed
    accident_rate[np.isnan(accident_rate)] = 0  

fig, ax = plt.subplots(figsize=(10, 6))

ax.stairs(accident_rate, bins, label="Accident Rate (Accidents / Vehicle in Bin)", color="darkorange", linewidth=2)

ax.set_xlabel("Sentiment_Score", fontsize=14)
ax.set_ylabel("Accident Rate", fontsize=14)
ax.set_title("Accident Rate by Sentiment_Score", fontsize=16)
ax.legend()
ax.grid(True, linestyle='--', alpha=0.5)

plt.tight_layout()
plt.show()


import seaborn as sns
import numpy as np
import matplotlib.pyplot as plt

accident_rates = smartDf.groupby("Weather_Condition")["Accident_Report"].mean().sort_index()

sns.set_context("talk")
fig, ax = plt.subplots(figsize=(10, 6))

ax.bar(accident_rates.index, accident_rates.values, color="crimson", label="Accident Rate")

ax.set_xlabel("Weather Condition", fontsize=14)
ax.set_ylabel("Accident Rate", fontsize=14)
ax.set_title("Accident Rate by Weather Condition", fontsize=16)
#ax.legend()
ax.grid(True, linestyle='--', alpha=0.5)
plt.xticks(rotation=45, ha='right')
plt.tight_layout()
plt.show()




