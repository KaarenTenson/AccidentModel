import numpy as np
import pandas as pd
import geopandas as gpd
import contextily as ctx
import matplotlib.pyplot as plt
import pyproj
import osmnx
from geopy import distance
import seaborn as sns
import kagglehub


#Linux
path = kagglehub.dataset_download("sobhanmoosavi/us-accidents")
get_ipython().getoutput("mv {path} .")


#Windows
path = kagglehub.dataset_download("sobhanmoosavi/us-accidents")
get_ipython().getoutput("move {path} .")


filename="13/US_Accidents_March23.csv"


chunksize = 10 ** 6
locationCounts={}
DaytonDf=pd.DataFrame()
for chunk in pd.read_csv(filename, chunksize=chunksize):
    # chunk is a DataFrame. To "process" the rows in the chunk:
    if(DaytonDf.empty):
        DaytonDf=chunk[chunk["City"]=="Dayton"]
    else:
        DaytonDf=pd.concat([DaytonDf, chunk[chunk["City"]=="Dayton"]])


DaytonDf.to_csv("13/Dayton")


deathDf=DaytonDf[DaytonDf["Description"].str.contains("35")]


deathDf["Description"]


DaytonDf=pd.read_csv("13/Dayton.csv")


DaytonDf


place="Dayton, Ohio, USA"
daytonRoad=osmnx.graph_from_place(network_type="drive", query=place)


osmnx.plot_graph(daytonRoad)


osmnx.io.save_graphml(daytonRoad, "data/road.graphml")


study_area = osmnx.geocode_to_gdf(place)


study_area.plot()


road_network=osmnx.load_graphml("data/road.graphml")



osmnx.plot_graph(road_network)


study_area.geometry.head()


nodes, edges = osmnx.graph_to_gdfs(road_network)
print("Edges CRS:", edges.crs)
print("Study Area CRS:", study_area.crs)
#edges = edges.to_crs(epsg=3857)
#study_area = study_area.to_crs(epsg=3857)


fig, ax = plt.subplots(figsize=(10, 10))
study_area.plot(ax=ax, edgecolor='black', facecolor='none')
edges.plot(ax=ax, edgecolor='blue', linewidth=0.5)
plt.show()


study_area.plot()



