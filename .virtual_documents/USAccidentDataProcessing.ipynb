import numpy as np
import pandas as pd
import geopandas as gpd
import contextily as ctx
import matplotlib.pyplot as plt
import pyproj
import osmnx
from geopy import distance
import seaborn as sns
import kagglehub


#Linux
path = kagglehub.dataset_download("sobhanmoosavi/us-accidents")
get_ipython().getoutput("mv {path} .")


#Windows
path = kagglehub.dataset_download("sobhanmoosavi/us-accidents")
get_ipython().getoutput("move {path} .")


filename="13/US_Accidents_March23.csv"


chunksize = 10 ** 6
locationCounts={}
DaytonDf=pd.DataFrame()
for chunk in pd.read_csv(filename, chunksize=chunksize):
    # chunk is a DataFrame. To "process" the rows in the chunk:
    if(DaytonDf.empty):
        DaytonDf=chunk[chunk["City"]=="Dayton"]
    else:
        DaytonDf=pd.concat([DaytonDf, chunk[chunk["City"]=="Dayton"]])


DaytonDf.to_csv("13/Dayton")


deathDf=DaytonDf[DaytonDf["Description"].str.contains("35")]


deathDf["Description"]



