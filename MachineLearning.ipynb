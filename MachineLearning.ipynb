{
 "cells": [
  {
   "cell_type": "code",
   "execution_count": 1,
   "id": "f95306ce-dd18-47b9-b381-ea6b2e4db2bd",
   "metadata": {},
   "outputs": [
    {
     "name": "stderr",
     "output_type": "stream",
     "text": [
      "/home/kaarentenson/PythonV/venv/lib/python3.12/site-packages/tqdm/auto.py:21: TqdmWarning: IProgress not found. Please update jupyter and ipywidgets. See https://ipywidgets.readthedocs.io/en/stable/user_install.html\n",
      "  from .autonotebook import tqdm as notebook_tqdm\n"
     ]
    }
   ],
   "source": [
    "import contextily as ctx\n",
    "import geopandas as gpd\n",
    "import kagglehub\n",
    "import matplotlib.pyplot as plt\n",
    "import numpy as np\n",
    "import osmnx\n",
    "import pandas as pd\n",
    "from sklearn.cluster import KMeans\n",
    "from sklearn.model_selection import train_test_split\n",
    "from sklearn.preprocessing import Normalizer"
   ]
  },
  {
   "cell_type": "code",
   "execution_count": 7,
   "id": "c4f034d0-74c4-46fb-8178-84463a1d8f8a",
   "metadata": {},
   "outputs": [],
   "source": [
    "DaytonDf = pd.read_csv(\"13/Dayton.csv\")\n",
    "roadNetwork = osmnx.io.load_graphml(\"data/road.graphml\")\n",
    "study_area = osmnx.geocode_to_gdf(\"Dayton\")\n",
    "# congestionData = pd.read_csv(\"data/DaytonCongestionsDf.csv\")"
   ]
  },
  {
   "cell_type": "code",
   "execution_count": 8,
   "id": "dbb726d1-136c-4e94-9a91-a161fa3d27e6",
   "metadata": {},
   "outputs": [],
   "source": [
    "DaytonDf[\"Start_Time\"] = pd.to_datetime(\n",
    "    DaytonDf[\"Start_Time\"], format=\"mixed\", utc=True\n",
    ").dt.floor(\"h\")\n",
    "DaytonDf[\"End_Time\"] = pd.to_datetime(\n",
    "    DaytonDf[\"End_Time\"], format=\"mixed\", utc=True\n",
    ").dt.floor(\"h\")"
   ]
  },
  {
   "cell_type": "code",
   "execution_count": 10,
   "id": "539a8cf4-aac8-4b9c-892d-cd7d2fc23acf",
   "metadata": {},
   "outputs": [
    {
     "name": "stdout",
     "output_type": "stream",
     "text": [
      "12495\n"
     ]
    },
    {
     "name": "stderr",
     "output_type": "stream",
     "text": [
      "/tmp/ipykernel_553162/539175408.py:3: UserWarning: you are shuffling a 'DatetimeArray' object which is not a subclass of 'Sequence'; `shuffle` is not guaranteed to behave correctly. E.g., non-numpy array/tensor objects with view semantics may contain duplicates after shuffling.\n",
      "  np.random.shuffle(start_times)\n"
     ]
    },
    {
     "name": "stdout",
     "output_type": "stream",
     "text": [
      "12495\n"
     ]
    }
   ],
   "source": [
    "start_times = DaytonDf[\"Start_Time\"].dropna().unique()\n",
    "print(len(start_times))\n",
    "np.random.shuffle(start_times)\n",
    "print(len(start_times.unique()))\n",
    "train_times, test_times = train_test_split(start_times, test_size=0.2, random_state=42)\n",
    "train_df = DaytonDf[DaytonDf[\"Start_Time\"].isin(train_times)]\n",
    "test_df = DaytonDf[DaytonDf[\"Start_Time\"].isin(test_times)]"
   ]
  },
  {
   "cell_type": "code",
   "execution_count": 34,
   "id": "1767d43b-95b1-4002-a737-4e578ba1642b",
   "metadata": {},
   "outputs": [],
   "source": [
    "def normalizeColumns(df, normalizer: Normalizer = None):\n",
    "    if normalizer == None:\n",
    "        normalizer = Normalizer()\n",
    "        normalizer.fit(df)\n",
    "    return normalizer.transform(df), normalizer\n",
    "\n",
    "\n",
    "def oneHotEncode(df, columns):\n",
    "    pd.get_dummies(df, columns=columns)\n",
    "\n",
    "\n",
    "def preProccessTestData(accidentDf, dates, normalizer: Normalizer, kmeans: KMeans):\n",
    "    accidentDf[\"cluster\"] = kmeans.predict(test_df[[\"Start_Lat\", \"Start_Lat\"]])\n",
    "    X_data = pd.DataFrame({\"time\": dates})\n",
    "    X_data[\"temp\"] = X_data[\"time\"].apply(\n",
    "        lambda x: accidentDf[accidentDf[\"Start_Time\"] == x][\"Temperature(F)\"].mean()\n",
    "    )\n",
    "    y_data = pd.DataFrame()\n",
    "    for i in range(kmeans.n_clusters):\n",
    "        y_data[str(i)] = X_data[\"time\"].apply(\n",
    "            lambda x: accidentDf[\n",
    "                (accidentDf[\"Start_Time\"] == x) & (accidentDf[\"cluster\"] == i)\n",
    "            ].shape[0]\n",
    "        )\n",
    "\n",
    "    return X_data, y_data\n",
    "\n",
    "\n",
    "def preProccessTrainData(\n",
    "    accidentDf,\n",
    "    dates,\n",
    "    numberOfClusters=5,\n",
    "):\n",
    "\n",
    "    kmeans = KMeans(n_clusters=numberOfClusters)\n",
    "    kmeans.fit(accidentDf[[\"Start_Lat\", \"Start_Lat\"]])\n",
    "    accidentDf[\"cluster\"] = kmeans.labels_\n",
    "    X_data = pd.DataFrame({\"time\": dates})\n",
    "    X_data[\"temp\"] = X_data[\"time\"].apply(\n",
    "        lambda x: accidentDf[accidentDf[\"Start_Time\"] == x][\"Temperature(F)\"].mean()\n",
    "    )\n",
    "    y_data = pd.DataFrame()\n",
    "    for i in range(numberOfClusters):\n",
    "        y_data[str(i)] = X_data[\"time\"].apply(\n",
    "            lambda x: accidentDf[\n",
    "                (accidentDf[\"Start_Time\"] == x) & (accidentDf[\"cluster\"] == i)\n",
    "            ].shape[0]\n",
    "        )\n",
    "    X_data[\"temp\"]=X_data[\"temp\"].fillna(X_data[\"temp\"].mean())\n",
    "    print(X_data[\"temp\"])\n",
    "    X_data[[\"temp\"]], normalizer =normalizeColumns(X_data[[\"temp\"]])\n",
    "    return X_data, y_data, normalizer, kmeans"
   ]
  },
  {
   "cell_type": "code",
   "execution_count": 35,
   "id": "cba59467-8c78-4331-a0c2-1b3a16f17a92",
   "metadata": {},
   "outputs": [
    {
     "name": "stderr",
     "output_type": "stream",
     "text": [
      "/tmp/ipykernel_553162/253582968.py:37: SettingWithCopyWarning: \n",
      "A value is trying to be set on a copy of a slice from a DataFrame.\n",
      "Try using .loc[row_indexer,col_indexer] = value instead\n",
      "\n",
      "See the caveats in the documentation: https://pandas.pydata.org/pandas-docs/stable/user_guide/indexing.html#returning-a-view-versus-a-copy\n",
      "  accidentDf[\"cluster\"] = kmeans.labels_\n"
     ]
    },
    {
     "name": "stdout",
     "output_type": "stream",
     "text": [
      "0       62.000000\n",
      "1       78.727273\n",
      "2       63.000000\n",
      "3       23.000000\n",
      "4       54.633333\n",
      "          ...    \n",
      "9991    57.000000\n",
      "9992    48.000000\n",
      "9993    68.000000\n",
      "9994    80.000000\n",
      "9995    44.000000\n",
      "Name: temp, Length: 9996, dtype: float64\n"
     ]
    },
    {
     "name": "stderr",
     "output_type": "stream",
     "text": [
      "/tmp/ipykernel_553162/253582968.py:13: SettingWithCopyWarning: \n",
      "A value is trying to be set on a copy of a slice from a DataFrame.\n",
      "Try using .loc[row_indexer,col_indexer] = value instead\n",
      "\n",
      "See the caveats in the documentation: https://pandas.pydata.org/pandas-docs/stable/user_guide/indexing.html#returning-a-view-versus-a-copy\n",
      "  accidentDf[\"cluster\"] = kmeans.predict(test_df[[\"Start_Lat\", \"Start_Lat\"]])\n"
     ]
    }
   ],
   "source": [
    "train_X, train_y, normalizer, kmeans = preProccessTrainData(train_df, train_times)\n",
    "test_X, test_y= preProccessTestData(test_df, test_times, normalizer, kmeans)"
   ]
  },
  {
   "cell_type": "code",
   "execution_count": 38,
   "id": "75f83241-4162-44dd-80ac-c6963d851431",
   "metadata": {},
   "outputs": [
    {
     "data": {
      "text/html": [
       "<div>\n",
       "<style scoped>\n",
       "    .dataframe tbody tr th:only-of-type {\n",
       "        vertical-align: middle;\n",
       "    }\n",
       "\n",
       "    .dataframe tbody tr th {\n",
       "        vertical-align: top;\n",
       "    }\n",
       "\n",
       "    .dataframe thead th {\n",
       "        text-align: right;\n",
       "    }\n",
       "</style>\n",
       "<table border=\"1\" class=\"dataframe\">\n",
       "  <thead>\n",
       "    <tr style=\"text-align: right;\">\n",
       "      <th></th>\n",
       "      <th>0</th>\n",
       "      <th>1</th>\n",
       "      <th>2</th>\n",
       "      <th>3</th>\n",
       "      <th>4</th>\n",
       "    </tr>\n",
       "  </thead>\n",
       "  <tbody>\n",
       "    <tr>\n",
       "      <th>0</th>\n",
       "      <td>3</td>\n",
       "      <td>0</td>\n",
       "      <td>0</td>\n",
       "      <td>0</td>\n",
       "      <td>0</td>\n",
       "    </tr>\n",
       "    <tr>\n",
       "      <th>1</th>\n",
       "      <td>11</td>\n",
       "      <td>0</td>\n",
       "      <td>0</td>\n",
       "      <td>0</td>\n",
       "      <td>0</td>\n",
       "    </tr>\n",
       "    <tr>\n",
       "      <th>2</th>\n",
       "      <td>1</td>\n",
       "      <td>0</td>\n",
       "      <td>0</td>\n",
       "      <td>0</td>\n",
       "      <td>0</td>\n",
       "    </tr>\n",
       "    <tr>\n",
       "      <th>3</th>\n",
       "      <td>2</td>\n",
       "      <td>0</td>\n",
       "      <td>0</td>\n",
       "      <td>0</td>\n",
       "      <td>0</td>\n",
       "    </tr>\n",
       "    <tr>\n",
       "      <th>4</th>\n",
       "      <td>5</td>\n",
       "      <td>1</td>\n",
       "      <td>0</td>\n",
       "      <td>0</td>\n",
       "      <td>0</td>\n",
       "    </tr>\n",
       "    <tr>\n",
       "      <th>...</th>\n",
       "      <td>...</td>\n",
       "      <td>...</td>\n",
       "      <td>...</td>\n",
       "      <td>...</td>\n",
       "      <td>...</td>\n",
       "    </tr>\n",
       "    <tr>\n",
       "      <th>9991</th>\n",
       "      <td>2</td>\n",
       "      <td>0</td>\n",
       "      <td>0</td>\n",
       "      <td>0</td>\n",
       "      <td>0</td>\n",
       "    </tr>\n",
       "    <tr>\n",
       "      <th>9992</th>\n",
       "      <td>1</td>\n",
       "      <td>0</td>\n",
       "      <td>0</td>\n",
       "      <td>0</td>\n",
       "      <td>0</td>\n",
       "    </tr>\n",
       "    <tr>\n",
       "      <th>9993</th>\n",
       "      <td>1</td>\n",
       "      <td>0</td>\n",
       "      <td>0</td>\n",
       "      <td>0</td>\n",
       "      <td>0</td>\n",
       "    </tr>\n",
       "    <tr>\n",
       "      <th>9994</th>\n",
       "      <td>2</td>\n",
       "      <td>0</td>\n",
       "      <td>0</td>\n",
       "      <td>0</td>\n",
       "      <td>0</td>\n",
       "    </tr>\n",
       "    <tr>\n",
       "      <th>9995</th>\n",
       "      <td>1</td>\n",
       "      <td>0</td>\n",
       "      <td>0</td>\n",
       "      <td>0</td>\n",
       "      <td>0</td>\n",
       "    </tr>\n",
       "  </tbody>\n",
       "</table>\n",
       "<p>9996 rows × 5 columns</p>\n",
       "</div>"
      ],
      "text/plain": [
       "       0  1  2  3  4\n",
       "0      3  0  0  0  0\n",
       "1     11  0  0  0  0\n",
       "2      1  0  0  0  0\n",
       "3      2  0  0  0  0\n",
       "4      5  1  0  0  0\n",
       "...   .. .. .. .. ..\n",
       "9991   2  0  0  0  0\n",
       "9992   1  0  0  0  0\n",
       "9993   1  0  0  0  0\n",
       "9994   2  0  0  0  0\n",
       "9995   1  0  0  0  0\n",
       "\n",
       "[9996 rows x 5 columns]"
      ]
     },
     "execution_count": 38,
     "metadata": {},
     "output_type": "execute_result"
    }
   ],
   "source": [
    "train_y"
   ]
  },
  {
   "cell_type": "code",
   "execution_count": null,
   "id": "8f49c80b-4fe9-452c-ab1e-e5985b1ebb94",
   "metadata": {},
   "outputs": [],
   "source": []
  }
 ],
 "metadata": {
  "kernelspec": {
   "display_name": "Python 3 (ipykernel)",
   "language": "python",
   "name": "python3"
  },
  "language_info": {
   "codemirror_mode": {
    "name": "ipython",
    "version": 3
   },
   "file_extension": ".py",
   "mimetype": "text/x-python",
   "name": "python",
   "nbconvert_exporter": "python",
   "pygments_lexer": "ipython3",
   "version": "3.12.3"
  }
 },
 "nbformat": 4,
 "nbformat_minor": 5
}
