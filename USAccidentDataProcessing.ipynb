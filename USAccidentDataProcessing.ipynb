{
 "cells": [
  {
   "cell_type": "code",
   "execution_count": 1,
   "id": "b23ce7e3-215a-4b73-b254-10e9b9950054",
   "metadata": {},
   "outputs": [
    {
     "name": "stderr",
     "output_type": "stream",
     "text": [
      "/home/kaarentenson/PythonV/venv/lib/python3.12/site-packages/tqdm/auto.py:21: TqdmWarning: IProgress not found. Please update jupyter and ipywidgets. See https://ipywidgets.readthedocs.io/en/stable/user_install.html\n",
      "  from .autonotebook import tqdm as notebook_tqdm\n"
     ]
    }
   ],
   "source": [
    "import numpy as np\n",
    "import pandas as pd\n",
    "import geopandas as gpd\n",
    "import contextily as ctx\n",
    "import matplotlib.pyplot as plt\n",
    "import pyproj\n",
    "import osmnx\n",
    "from geopy import distance\n",
    "import seaborn as sns\n",
    "import kagglehub"
   ]
  },
  {
   "cell_type": "code",
   "execution_count": 2,
   "id": "6580fe28-469e-4ed9-b7dc-f6e757e1c782",
   "metadata": {},
   "outputs": [
    {
     "name": "stdout",
     "output_type": "stream",
     "text": [
      "Warning: Looks like you're using an outdated `kagglehub` version, please consider updating (latest version: 0.3.11)\n",
      "Downloading from https://www.kaggle.com/api/v1/datasets/download/sobhanmoosavi/us-accidents?dataset_version_number=13...\n"
     ]
    },
    {
     "name": "stderr",
     "output_type": "stream",
     "text": [
      "100%|██████████████████████████████████████████████████████| 653M/653M [07:59<00:00, 1.43MB/s]"
     ]
    },
    {
     "name": "stdout",
     "output_type": "stream",
     "text": [
      "Extracting files...\n"
     ]
    },
    {
     "name": "stderr",
     "output_type": "stream",
     "text": [
      "\n"
     ]
    },
    {
     "name": "stdout",
     "output_type": "stream",
     "text": [
      "mv: stat 'path' ei õnnestu: No such file or directory\n"
     ]
    }
   ],
   "source": [
    "#Linux\n",
    "path = kagglehub.dataset_download(\"sobhanmoosavi/us-accidents\")\n",
    "!mv {path} ."
   ]
  },
  {
   "cell_type": "code",
   "execution_count": null,
   "id": "f94be92a-0b9c-422c-89cd-ed00eeb64846",
   "metadata": {},
   "outputs": [],
   "source": [
    "#Windows\n",
    "path = kagglehub.dataset_download(\"sobhanmoosavi/us-accidents\")\n",
    "!move {path} ."
   ]
  },
  {
   "cell_type": "code",
   "execution_count": 3,
   "id": "baca88b6-9777-4c71-b352-a8f45f25b510",
   "metadata": {},
   "outputs": [],
   "source": [
    "filename=\"13/US_Accidents_March23.csv\""
   ]
  },
  {
   "cell_type": "code",
   "execution_count": 8,
   "id": "88e00704-1fa1-407a-a5bf-eac8f44ecf0d",
   "metadata": {},
   "outputs": [],
   "source": [
    "chunksize = 10 ** 6\n",
    "locationCounts={}\n",
    "DaytonDf=pd.DataFrame()\n",
    "for chunk in pd.read_csv(filename, chunksize=chunksize):\n",
    "    # chunk is a DataFrame. To \"process\" the rows in the chunk:\n",
    "    if(DaytonDf.empty):\n",
    "        DaytonDf=chunk[chunk[\"City\"]==\"Dayton\"]\n",
    "    else:\n",
    "        DaytonDf=pd.concat([DaytonDf, chunk[chunk[\"City\"]==\"Dayton\"]])"
   ]
  },
  {
   "cell_type": "code",
   "execution_count": 10,
   "id": "43a05f09-4f41-4514-957f-c9ccabb71e3a",
   "metadata": {},
   "outputs": [],
   "source": [
    "DaytonDf.to_csv(\"13/Dayton\")"
   ]
  },
  {
   "cell_type": "code",
   "execution_count": 38,
   "id": "123d461a-7266-43ce-84f2-88eaa4408c81",
   "metadata": {},
   "outputs": [],
   "source": [
    "deathDf=DaytonDf[DaytonDf[\"Description\"].str.contains(\"35\")]"
   ]
  },
  {
   "cell_type": "code",
   "execution_count": 39,
   "id": "7ebd8a4d-2f89-4dd3-8210-4b9726737b96",
   "metadata": {},
   "outputs": [
    {
     "data": {
      "text/plain": [
       "0          Right lane blocked due to accident on I-70 Eas...\n",
       "3          Accident on I-75 Southbound at Exits 52 52B US...\n",
       "16         Accident on James H McGee Blvd at US-35. Expec...\n",
       "58         Accident on US-35 Eastbound at Steve Whalen Bl...\n",
       "59         Accident on US-35 Eastbound at Smithville Rd. ...\n",
       "                                 ...                        \n",
       "7652368    Between Fairfield Rd and OH-835/Research Blvd/...\n",
       "7652409    Closed at US-35/Exit 13 - Road closed due to a...\n",
       "7652414    Between Indian Ripple Rd/Exit 10 and US-35/Exi...\n",
       "7665546    At US-35/Albany St/Exit 52 - Accident. Two lan...\n",
       "7713777      Between OH-835/Woodman Dr and I-675 - Accident.\n",
       "Name: Description, Length: 2125, dtype: object"
      ]
     },
     "execution_count": 39,
     "metadata": {},
     "output_type": "execute_result"
    }
   ],
   "source": [
    "deathDf[\"Description\"]"
   ]
  },
  {
   "cell_type": "code",
   "execution_count": null,
   "id": "a248bb14-d8c6-40d5-8a46-4446d3088e1f",
   "metadata": {},
   "outputs": [],
   "source": []
  }
 ],
 "metadata": {
  "kernelspec": {
   "display_name": "Python 3 (ipykernel)",
   "language": "python",
   "name": "python3"
  },
  "language_info": {
   "codemirror_mode": {
    "name": "ipython",
    "version": 3
   },
   "file_extension": ".py",
   "mimetype": "text/x-python",
   "name": "python",
   "nbconvert_exporter": "python",
   "pygments_lexer": "ipython3",
   "version": "3.12.3"
  }
 },
 "nbformat": 4,
 "nbformat_minor": 5
}
