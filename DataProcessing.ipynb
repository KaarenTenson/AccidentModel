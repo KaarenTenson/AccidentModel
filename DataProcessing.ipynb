{
 "cells": [
  {
   "cell_type": "code",
   "execution_count": 1,
   "id": "db3510db-4529-4114-a8c1-67c45f6c3bcf",
   "metadata": {},
   "outputs": [],
   "source": [
    "import numpy as np\n",
    "import pandas as pd\n",
    "import geopandas as gpd\n",
    "import contextily as ctx\n",
    "import matplotlib.pyplot as plt\n",
    "import pyproj\n",
    "import osmnx\n",
    "from geopy import distance"
   ]
  },
  {
   "cell_type": "code",
   "execution_count": 2,
   "id": "fc28aebe-0ccc-44f7-8827-2923af11a051",
   "metadata": {},
   "outputs": [],
   "source": [
    "smartDf= pd.read_csv(\"archive/smart_mobility_dataset.csv\")"
   ]
  },
  {
   "cell_type": "code",
   "execution_count": 3,
   "id": "92158175-0133-43c8-833e-38407a586df9",
   "metadata": {},
   "outputs": [],
   "source": [
    "smartDf[\"coordinate\"]=smartDf.apply(lambda x: (x[\"Latitude\"], x[\"Longitude\"]), axis=1)"
   ]
  },
  {
   "cell_type": "code",
   "execution_count": 4,
   "id": "ad0731ec-cb10-46b4-9229-50ae0ef34c44",
   "metadata": {},
   "outputs": [],
   "source": [
    "center_point_x=sum(smartDf[\"Latitude\"])/smartDf.shape[0]\n",
    "center_point_y=sum(smartDf[\"Longitude\"])/smartDf.shape[0]\n",
    "center_point=(center_point_x, center_point_y)\n",
    "max_distance= max(smartDf.apply(lambda x: distance.distance((center_point[0], center_point[1]), (x[\"Latitude\"],\n",
    "                                                                   x[\"Longitude\"])\n",
    "                                                                  ), axis=1)\n",
    "                 )"
   ]
  },
  {
   "cell_type": "code",
   "execution_count": 5,
   "id": "da43883d-80e5-426f-bbae-9630392eb1c8",
   "metadata": {},
   "outputs": [],
   "source": [
    "tags={\"highway\": True}"
   ]
  },
  {
   "cell_type": "code",
   "execution_count": null,
   "id": "271f305f-8403-4208-961c-0d4316aa320c",
   "metadata": {},
   "outputs": [],
   "source": [
    "roads=osmnx.features.features_from_point(center_point=center_point, tags=tags, dist=max_distance.m*1.2)"
   ]
  },
  {
   "cell_type": "code",
   "execution_count": null,
   "id": "7737106a-3c86-43f7-ab3c-2919110ea69b",
   "metadata": {},
   "outputs": [],
   "source": []
  }
 ],
 "metadata": {
  "kernelspec": {
   "display_name": "Python 3 (ipykernel)",
   "language": "python",
   "name": "python3"
  },
  "language_info": {
   "codemirror_mode": {
    "name": "ipython",
    "version": 3
   },
   "file_extension": ".py",
   "mimetype": "text/x-python",
   "name": "python",
   "nbconvert_exporter": "python",
   "pygments_lexer": "ipython3",
   "version": "3.12.3"
  }
 },
 "nbformat": 4,
 "nbformat_minor": 5
}
